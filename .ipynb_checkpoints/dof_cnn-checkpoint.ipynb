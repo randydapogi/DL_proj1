{
 "cells": [
  {
   "cell_type": "markdown",
   "metadata": {},
   "source": [
    "# Dont overfit CNN implementation"
   ]
  },
  {
   "cell_type": "markdown",
   "metadata": {},
   "source": [
    "## Import Dependencies"
   ]
  },
  {
   "cell_type": "code",
   "execution_count": 1,
   "metadata": {},
   "outputs": [
    {
     "name": "stderr",
     "output_type": "stream",
     "text": [
      "Using TensorFlow backend.\n"
     ]
    }
   ],
   "source": [
    "from __future__ import absolute_import\n",
    "from __future__ import division\n",
    "from __future__ import print_function\n",
    "\n",
    "import numpy as np\n",
    "from keras.models import Sequential\n",
    "from keras.layers import Activation, Dense, Dropout\n",
    "from keras.layers import Conv2D, MaxPooling2D, Flatten\n",
    "from keras.utils import to_categorical, plot_model\n",
    "from keras.datasets import mnist\n",
    "import keras\n",
    "import tensorflow as tf\n",
    "\n",
    "import pandas as pd\n",
    "\n",
    "import csv"
   ]
  },
  {
   "cell_type": "markdown",
   "metadata": {},
   "source": [
    "## Import training and test Datasets"
   ]
  },
  {
   "cell_type": "code",
   "execution_count": 2,
   "metadata": {},
   "outputs": [
    {
     "name": "stdout",
     "output_type": "stream",
     "text": [
      "(250, 20, 15, 1)\n",
      "(19750, 20, 15, 1)\n"
     ]
    }
   ],
   "source": [
    "f = open('train.csv', 'r')\n",
    "reader = csv.reader(f)\n",
    "\n",
    "\n",
    "train_array = []\n",
    "train_label = []\n",
    "\n",
    "ctr = 0\n",
    "for row in reader:\n",
    "    if(ctr):\n",
    "        train_label.append(int(float(row[1])))\n",
    "        row.pop(0)\n",
    "        row.pop(0)\n",
    "        # print(len(row))\n",
    "        train_array.append([float(i) for i in row])\n",
    "        # break\n",
    "    ctr += 1\n",
    "f.close()\n",
    "\n",
    "x_train = np.asarray(train_array)\n",
    "y_train = np.asarray(train_label)\n",
    "\n",
    "x_cnn_train = x_train.reshape(250,20,15,1)\n",
    "y_cnn_train = y_train\n",
    "\n",
    "\n",
    "print(x_cnn_train.shape)\n",
    "\n",
    "\n",
    "\n",
    "f = open('test.csv', 'r')\n",
    "reader = csv.reader(f)\n",
    "\n",
    "\n",
    "test_array = []\n",
    "test_label = []\n",
    "\n",
    "ctr = 0\n",
    "for row in reader:\n",
    "    if(ctr):\n",
    "        test_label.append(int(float(row[0])))\n",
    "        row.pop(0)\n",
    "        test_array.append([float(i) for i in row])\n",
    "    ctr += 1\n",
    "f.close()\n",
    "\n",
    "x_test = np.asarray(test_array)\n",
    "y_test = np.asarray(test_label)\n",
    "\n",
    "x_cnn_test = x_test.reshape(19750,20,15,1)\n",
    "y_cnn_test = y_test\n",
    "\n",
    "print(x_cnn_test.shape)"
   ]
  },
  {
   "cell_type": "markdown",
   "metadata": {},
   "source": [
    "## Define Parameters"
   ]
  },
  {
   "cell_type": "code",
   "execution_count": null,
   "metadata": {},
   "outputs": [],
   "source": [
    "input_shape = x_cnn_train.shape[1:]\n",
    "batch_size = 128\n",
    "kernel_size = 2\n",
    "pool_size = 1\n",
    "filters = 128\n",
    "dropout = 0.2\n",
    "epochs = 200\n",
    "depth = 3"
   ]
  },
  {
   "cell_type": "markdown",
   "metadata": {},
   "source": [
    "## Define Model"
   ]
  },
  {
   "cell_type": "code",
   "execution_count": null,
   "metadata": {},
   "outputs": [],
   "source": [
    "model_cnn = Sequential()\n",
    "\n",
    "model_cnn.add(Conv2D(filters=filters,\n",
    "                 kernel_size=kernel_size,\n",
    "                 activation='relu',\n",
    "                 input_shape=input_shape))\n",
    "model_cnn.add(MaxPooling2D(pool_size))\n",
    "\n",
    "\n",
    "for i in range(1,depth):\n",
    "    print(i)\n",
    "    model_cnn.add(Dropout(dropout))\n",
    "\n",
    "    model_cnn.add(Conv2D(filters=filters,\n",
    "                    kernel_size=kernel_size,\n",
    "                    activation='relu'))\n",
    "    model_cnn.add(MaxPooling2D(pool_size))\n",
    "    model_cnn.add(Dropout(dropout))\n",
    "\n",
    "model_cnn.add(Flatten())\n",
    "\n",
    "\n",
    "model_cnn.add(Dense(1))\n",
    "model_cnn.add(Activation('sigmoid'))\n",
    "model_cnn.summary()\n",
    "\n",
    "model_cnn.compile(optimizer='adam', \n",
    "              loss='binary_crossentropy',\n",
    "              metrics=['accuracy', 'binary_crossentropy'])"
   ]
  },
  {
   "cell_type": "markdown",
   "metadata": {},
   "source": [
    "## Train Model"
   ]
  },
  {
   "cell_type": "code",
   "execution_count": null,
   "metadata": {},
   "outputs": [],
   "source": [
    "model_cnn.fit(x_cnn_train, y_cnn_train, epochs=epochs, batch_size=batch_size)"
   ]
  },
  {
   "cell_type": "markdown",
   "metadata": {},
   "source": [
    "## Run model on Test Data and generate CSV file for submission"
   ]
  },
  {
   "cell_type": "code",
   "execution_count": null,
   "metadata": {},
   "outputs": [],
   "source": [
    "filename='CNN_D'+str(depth)+'_BS'+str(batch_size)+'_E'+str(epochs)+'_F'+str(filters)+'.csv'\n",
    "\n",
    "res = model_cnn.predict(x_cnn_test)\n",
    "\n",
    "with open(filename, \"w\",  newline='') as csv_file:\n",
    "        writer = csv.writer(csv_file, delimiter=',')\n",
    "        writer.writerow(('id', 'target'))\n",
    "        for (x, y) in zip(y_test, res):\n",
    "            if y[0] >= 0.5:\n",
    "                targ = 1\n",
    "            else:\n",
    "                targ = 0\n",
    "            writer.writerow((x,targ))"
   ]
  }
 ],
 "metadata": {
  "kernelspec": {
   "display_name": "Python 3",
   "language": "python",
   "name": "python3"
  },
  "language_info": {
   "codemirror_mode": {
    "name": "ipython",
    "version": 3
   },
   "file_extension": ".py",
   "mimetype": "text/x-python",
   "name": "python",
   "nbconvert_exporter": "python",
   "pygments_lexer": "ipython3",
   "version": "3.6.8"
  }
 },
 "nbformat": 4,
 "nbformat_minor": 2
}
